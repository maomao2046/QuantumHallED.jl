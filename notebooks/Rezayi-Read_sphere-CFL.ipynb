{
 "cells": [
  {
   "cell_type": "markdown",
   "metadata": {},
   "source": [
    "## *This notebook reproduces results in Rezayi and Read, PRL 72, 900 (1994)*"
   ]
  },
  {
   "cell_type": "markdown",
   "metadata": {},
   "source": [
    "### Load QHED code"
   ]
  },
  {
   "cell_type": "code",
   "execution_count": 1,
   "metadata": {},
   "outputs": [],
   "source": [
    "qhed_dir = \"../\"\n",
    "# CG_dir = joinpath(qhed_dir, \"CG\") # specify directory for precomputed Clebsch-Gordan coefficients\n",
    "\n",
    "include(joinpath(qhed_dir, \"src\", \"QHED.jl\"));"
   ]
  },
  {
   "cell_type": "markdown",
   "metadata": {},
   "source": [
    "### Set matplotlib defaults"
   ]
  },
  {
   "cell_type": "code",
   "execution_count": 2,
   "metadata": {
    "collapsed": true
   },
   "outputs": [],
   "source": [
    "using PyPlot\n",
    "\n",
    "PyPlot.matplotlib[:rc](\"font\", size=14)\n",
    "PyPlot.matplotlib[:rc](\"text\", usetex=true)\n",
    "PyPlot.matplotlib[:rc](\"xtick\", direction=\"in\", bottom=\"on\", top=\"on\")\n",
    "PyPlot.matplotlib[:rc](\"xtick.minor\", visible=\"on\")\n",
    "PyPlot.matplotlib[:rc](\"ytick\", direction=\"in\", left=\"on\", right=\"on\")\n",
    "PyPlot.matplotlib[:rc](\"ytick.minor\", visible=\"on\")\n",
    "\n",
    "# bblue = \"#0C2340\"\n",
    "# borange = \"#FC4C02\""
   ]
  },
  {
   "cell_type": "markdown",
   "metadata": {},
   "source": [
    "## Calculate energy spectra for various $N$\n",
    "To investigate the compressible CFL in the lowest Landau level, Rezayi and Read consider systems with $N_\\phi = 2(N - 1)$. Below we reproduce (for brevity, only a subset of) the results in Figs. 1-3 of Rezayi and Read."
   ]
  },
  {
   "cell_type": "markdown",
   "metadata": {},
   "source": [
    "### N = 7"
   ]
  },
  {
   "cell_type": "code",
   "execution_count": 3,
   "metadata": {},
   "outputs": [
    {
     "name": "stdout",
     "output_type": "stream",
     "text": [
      "Building states list for N = 7, Nphi = 12, Lz = 0 ...\n",
      "Finished building states list of size 94\n",
      "elapsed time: 0.09704126 seconds\n",
      "\n",
      "Building L^2 matrix of size 94 x 94 ...\n",
      "Working on LpLm, column j = 1: 1/94 = 1.0638297872340425%\n",
      "Working on LpLm, column j = 5: 5/94 = 5.319148936170213%\n",
      "Working on LpLm, column j = 10: 10/94 = 10.638297872340425%\n",
      "Working on LpLm, column j = 15: 15/94 = 15.957446808510639%\n",
      "Working on LpLm, column j = 20: 20/94 = 21.27659574468085%\n",
      "Working on LpLm, column j = 25: 25/94 = 26.595744680851062%\n",
      "Working on LpLm, column j = 30: 30/94 = 31.914893617021278%\n",
      "Working on LpLm, column j = 35: 35/94 = 37.234042553191486%\n",
      "Working on LpLm, column j = 40: 40/94 = 42.5531914893617%\n",
      "Working on LpLm, column j = 45: 45/94 = 47.87234042553192%\n",
      "Working on LpLm, column j = 50: 50/94 = 53.191489361702125%\n",
      "Working on LpLm, column j = 55: 55/94 = 58.51063829787234%\n",
      "Working on LpLm, column j = 60: 60/94 = 63.829787234042556%\n",
      "Working on LpLm, column j = 65: 65/94 = 69.14893617021276%\n",
      "Working on LpLm, column j = 70: 70/94 = 74.46808510638297%\n",
      "Working on LpLm, column j = 75: 75/94 = 79.7872340425532%\n",
      "Working on LpLm, column j = 80: 80/94 = 85.1063829787234%\n",
      "Working on LpLm, column j = 85: 85/94 = 90.42553191489361%\n",
      "Working on LpLm, column j = 90: 90/94 = 95.74468085106383%\n",
      "Working on Lz^2, column j = 1: 1/94 = 1.0638297872340425%\n",
      "Working on Lz^2, column j = 10: 10/94 = 10.638297872340425%\n",
      "Working on Lz^2, column j = 20: 20/94 = 21.27659574468085%\n",
      "Working on Lz^2, column j = 30: 30/94 = 31.914893617021278%\n",
      "Working on Lz^2, column j = 40: 40/94 = 42.5531914893617%\n",
      "Working on Lz^2, column j = 50: 50/94 = 53.191489361702125%\n",
      "Working on Lz^2, column j = 60: 60/94 = 63.829787234042556%\n",
      "Working on Lz^2, column j = 70: 70/94 = 74.46808510638297%\n",
      "Working on Lz^2, column j = 80: 80/94 = 85.1063829787234%\n",
      "Working on Lz^2, column j = 90: 90/94 = 95.74468085106383%\n",
      "elapsed time: 0.123275748 seconds\n",
      "\n",
      "Building CG table for ell1 = 6.0, ell2 = 6.0:\n",
      "Working on alpha1 = 1: 1/13\n",
      "Working on alpha1 = 2: 2/13\n",
      "Working on alpha1 = 3: 3/13\n",
      "Working on alpha1 = 4: 4/13\n",
      "Working on alpha1 = 5: 5/13\n",
      "Working on alpha1 = 6: 6/13\n",
      "Working on alpha1 = 7: 7/13\n",
      "Working on alpha1 = 8: 8/13\n",
      "Working on alpha1 = 9: 9/13\n",
      "Working on alpha1 = 10: 10/13\n",
      "Working on alpha1 = 11: 11/13\n",
      "Working on alpha1 = 12: 12/13\n",
      "Working on alpha1 = 13: 13/13\n",
      "elapsed time: 11.084124965 seconds\n",
      "\n",
      "Building 2-body interaction matrix ...\n",
      "Working on alpha1 = 1: 1/13\n",
      "Working on alpha1 = 2: 2/13\n",
      "Working on alpha1 = 3: 3/13\n",
      "Working on alpha1 = 4: 4/13\n",
      "Working on alpha1 = 5: 5/13\n",
      "Working on alpha1 = 6: 6/13\n",
      "Working on alpha1 = 7: 7/13\n",
      "Working on alpha1 = 8: 8/13\n",
      "Working on alpha1 = 9: 9/13\n",
      "Working on alpha1 = 10: 10/13\n",
      "Working on alpha1 = 11: 11/13\n",
      "Working on alpha1 = 12: 12/13\n",
      "Working on alpha1 = 13: 13/13\n",
      "elapsed time: 0.227115747 seconds\n",
      "\n",
      "Building Hami matrix of size 94 x 94 ...\n",
      "Working on H, column j = 1: 1/94 = 1.0638297872340425%\n",
      "Working on H, column j = 5: 5/94 = 5.319148936170213%\n",
      "Working on H, column j = 10: 10/94 = 10.638297872340425%\n",
      "Working on H, column j = 15: 15/94 = 15.957446808510639%\n",
      "Working on H, column j = 20: 20/94 = 21.27659574468085%\n",
      "Working on H, column j = 25: 25/94 = 26.595744680851062%\n",
      "Working on H, column j = 30: 30/94 = 31.914893617021278%\n",
      "Working on H, column j = 35: 35/94 = 37.234042553191486%\n",
      "Working on H, column j = 40: 40/94 = 42.5531914893617%\n",
      "Working on H, column j = 45: 45/94 = 47.87234042553192%\n",
      "Working on H, column j = 50: 50/94 = 53.191489361702125%\n",
      "Working on H, column j = 55: 55/94 = 58.51063829787234%\n",
      "Working on H, column j = 60: 60/94 = 63.829787234042556%\n",
      "Working on H, column j = 65: 65/94 = 69.14893617021276%\n",
      "Working on H, column j = 70: 70/94 = 74.46808510638297%\n",
      "Working on H, column j = 75: 75/94 = 79.7872340425532%\n",
      "Working on H, column j = 80: 80/94 = 85.1063829787234%\n",
      "Working on H, column j = 85: 85/94 = 90.42553191489361%\n",
      "Working on H, column j = 90: 90/94 = 95.74468085106383%\n",
      "elapsed time: 0.004355166 seconds\n",
      "\n",
      " 11.546094 seconds (12.09 M allocations: 217.535 MiB, 0.50% gc time)\n",
      "Diagonalizing Hami of size 94 x 94 with eig ...\n",
      "elapsed time: 0.228657364 seconds\n",
      "\n",
      "Organizing spectrum according to quantum number L ...\n",
      "elapsed time: 0.000340698 seconds\n",
      "\n"
     ]
    }
   ],
   "source": [
    "N = 7\n",
    "Nphi = 2*(N-1)\n",
    "\n",
    "setup = HaldaneSphereSetupLLL(N, Nphi, 0)\n",
    "\n",
    "pp = spherical_Coulomb_pseudopotentials(get_ell(setup), 0)\n",
    "@time Hami = HaldaneSphereHamiLLL(setup, pp, build_CG_table(get_ell(setup)))\n",
    "# @time Hami = HaldaneSphereHamiLLL(setup, pp, load_CG_table(get_ell(setup), CG_dir))\n",
    "eig!(Hami)\n",
    "organize_spectrum!(Hami);"
   ]
  },
  {
   "cell_type": "code",
   "execution_count": 4,
   "metadata": {},
   "outputs": [
    {
     "data": {
      "image/png": "[encoded data removed]",
      "text/plain": [
       "PyPlot.Figure(PyObject <matplotlib.figure.Figure object at 0x12fec6d90>)"
      ]
     },
     "metadata": {},
     "output_type": "display_data"
    }
   ],
   "source": [
    "fig, ax = subplots()\n",
    "ax[:plot](Hami.spectrum[:, 1], Hami.spectrum[:, 2] - minimum(Hami.spectrum[:, 2]), ls=\"none\", marker=\"_\", ms=\"12\", mew=\"1.5\")\n",
    "ax[:set_xlabel](\"\\$L\\$\")\n",
    "ax[:set_ylabel](\"\\$E~[e^2/(\\\\epsilon\\\\ell_0]\\$\")\n",
    "ax[:set_title](\"\\$N=$(N), N_\\\\phi=$(Nphi)\\$\")\n",
    "ax[:set_xlim](-1, 15)\n",
    "ax[:set_ylim](-0.01, 0.43);"
   ]
  },
  {
   "cell_type": "markdown",
   "metadata": {},
   "source": [
    "### N = 8"
   ]
  },
  {
   "cell_type": "code",
   "execution_count": 5,
   "metadata": {},
   "outputs": [
    {
     "name": "stdout",
     "output_type": "stream",
     "text": [
      "Building states list for N = 8, Nphi = 14, Lz = 0 ...\n",
      "Finished building states list of size 289\n",
      "elapsed time: 0.003114238 seconds\n",
      "\n",
      "Building L^2 matrix of size 289 x 289 ...\n",
      "Working on LpLm, column j = 1: 1/289 = 0.3460207612456747%\n",
      "Working on LpLm, column j = 15: 15/289 = 5.190311418685121%\n",
      "Working on LpLm, column j = 30: 30/289 = 10.380622837370241%\n",
      "Working on LpLm, column j = 45: 45/289 = 15.570934256055363%\n",
      "Working on LpLm, column j = 60: 60/289 = 20.761245674740483%\n",
      "Working on LpLm, column j = 75: 75/289 = 25.951557093425606%\n",
      "Working on LpLm, column j = 90: 90/289 = 31.141868512110726%\n",
      "Working on LpLm, column j = 105: 105/289 = 36.332179930795846%\n",
      "Working on LpLm, column j = 120: 120/289 = 41.522491349480966%\n",
      "Working on LpLm, column j = 135: 135/289 = 46.71280276816609%\n",
      "Working on LpLm, column j = 150: 150/289 = 51.90311418685121%\n",
      "Working on LpLm, column j = 165: 165/289 = 57.09342560553633%\n",
      "Working on LpLm, column j = 180: 180/289 = 62.28373702422145%\n",
      "Working on LpLm, column j = 195: 195/289 = 67.47404844290658%\n",
      "Working on LpLm, column j = 210: 210/289 = 72.66435986159169%\n",
      "Working on LpLm, column j = 225: 225/289 = 77.85467128027682%\n",
      "Working on LpLm, column j = 240: 240/289 = 83.04498269896193%\n",
      "Working on LpLm, column j = 255: 255/289 = 88.23529411764706%\n",
      "Working on LpLm, column j = 270: 270/289 = 93.42560553633218%\n",
      "Working on LpLm, column j = 285: 285/289 = 98.6159169550173%\n",
      "Working on Lz^2, column j = 1: 1/289 = 0.3460207612456747%\n",
      "Working on Lz^2, column j = 29: 29/289 = 10.034602076124568%\n",
      "Working on Lz^2, column j = 58: 58/289 = 20.069204152249135%\n",
      "Working on Lz^2, column j = 87: 87/289 = 30.103806228373703%\n",
      "Working on Lz^2, column j = 116: 116/289 = 40.13840830449827%\n",
      "Working on Lz^2, column j = 145: 145/289 = 50.173010380622834%\n",
      "Working on Lz^2, column j = 174: 174/289 = 60.207612456747405%\n",
      "Working on Lz^2, column j = 203: 203/289 = 70.24221453287197%\n",
      "Working on Lz^2, column j = 232: 232/289 = 80.27681660899654%\n",
      "Working on Lz^2, column j = 261: 261/289 = 90.31141868512111%\n",
      "elapsed time: 0.017186771 seconds\n",
      "\n",
      "Building CG table for ell1 = 7.0, ell2 = 7.0:\n",
      "Working on alpha1 = 1: 1/15\n",
      "Working on alpha1 = 2: 2/15\n",
      "Working on alpha1 = 3: 3/15\n",
      "Working on alpha1 = 4: 4/15\n",
      "Working on alpha1 = 5: 5/15\n",
      "Working on alpha1 = 6: 6/15\n",
      "Working on alpha1 = 7: 7/15\n",
      "Working on alpha1 = 8: 8/15\n",
      "Working on alpha1 = 9: 9/15\n",
      "Working on alpha1 = 10: 10/15\n",
      "Working on alpha1 = 11: 11/15\n",
      "Working on alpha1 = 12: 12/15\n",
      "Working on alpha1 = 13: 13/15\n",
      "Working on alpha1 = 14: 14/15\n",
      "Working on alpha1 = 15: 15/15\n",
      "elapsed time: 20.614163743 seconds\n",
      "\n",
      "Building 2-body interaction matrix ...\n",
      "Working on alpha1 = 1: 1/15\n",
      "Working on alpha1 = 2: 2/15\n",
      "Working on alpha1 = 3: 3/15\n",
      "Working on alpha1 = 4: 4/15\n",
      "Working on alpha1 = 5: 5/15\n",
      "Working on alpha1 = 6: 6/15\n",
      "Working on alpha1 = 7: 7/15\n",
      "Working on alpha1 = 8: 8/15\n",
      "Working on alpha1 = 9: 9/15\n",
      "Working on alpha1 = 10: 10/15\n",
      "Working on alpha1 = 11: 11/15\n",
      "Working on alpha1 = 12: 12/15\n",
      "Working on alpha1 = 13: 13/15\n",
      "Working on alpha1 = 14: 14/15\n",
      "Working on alpha1 = 15: 15/15\n",
      "elapsed time: 0.569253627 seconds\n",
      "\n",
      "Building Hami matrix of size 289 x 289 ...\n",
      "Working on H, column j = 1: 1/289 = 0.3460207612456747%\n",
      "Working on H, column j = 15: 15/289 = 5.190311418685121%\n",
      "Working on H, column j = 30: 30/289 = 10.380622837370241%\n",
      "Working on H, column j = 45: 45/289 = 15.570934256055363%\n",
      "Working on H, column j = 60: 60/289 = 20.761245674740483%\n",
      "Working on H, column j = 75: 75/289 = 25.951557093425606%\n",
      "Working on H, column j = 90: 90/289 = 31.141868512110726%\n",
      "Working on H, column j = 105: 105/289 = 36.332179930795846%\n",
      "Working on H, column j = 120: 120/289 = 41.522491349480966%\n",
      "Working on H, column j = 135: 135/289 = 46.71280276816609%\n",
      "Working on H, column j = 150: 150/289 = 51.90311418685121%\n",
      "Working on H, column j = 165: 165/289 = 57.09342560553633%\n",
      "Working on H, column j = 180: 180/289 = 62.28373702422145%\n",
      "Working on H, column j = 195: 195/289 = 67.47404844290658%\n",
      "Working on H, column j = 210: 210/289 = 72.66435986159169%\n",
      "Working on H, column j = 225: 225/289 = 77.85467128027682%\n",
      "Working on H, column j = 240: 240/289 = 83.04498269896193%\n",
      "Working on H, column j = 255: 255/289 = 88.23529411764706%\n",
      "Working on H, column j = 270: 270/289 = 93.42560553633218%\n",
      "Working on H, column j = 285: 285/289 = 98.6159169550173%\n",
      "elapsed time: 0.024598884 seconds\n",
      "\n",
      " 21.209051 seconds (26.97 M allocations: 475.904 MiB, 0.41% gc time)\n",
      "Diagonalizing Hami of size 289 x 289 with eig ...\n",
      "elapsed time: 0.036995822 seconds\n",
      "\n",
      "Organizing spectrum according to quantum number L ...\n",
      "elapsed time: 0.002738729 seconds\n",
      "\n"
     ]
    }
   ],
   "source": [
    "N = 8\n",
    "Nphi = 2*(N-1)\n",
    "\n",
    "setup = HaldaneSphereSetupLLL(N, Nphi, 0)\n",
    "\n",
    "pp = spherical_Coulomb_pseudopotentials(get_ell(setup), 0)\n",
    "@time Hami = HaldaneSphereHamiLLL(setup, pp, build_CG_table(get_ell(setup)))\n",
    "# @time Hami = HaldaneSphereHamiLLL(setup, pp, load_CG_table(get_ell(setup), CG_dir))\n",
    "eig!(Hami)\n",
    "organize_spectrum!(Hami);"
   ]
  },
  {
   "cell_type": "code",
   "execution_count": 6,
   "metadata": {},
   "outputs": [
    {
     "data": {
      "image/png": "[encoded data removed]",
      "text/plain": [
       "PyPlot.Figure(PyObject <matplotlib.figure.Figure object at 0x1340dcbd0>)"
      ]
     },
     "metadata": {},
     "output_type": "display_data"
    }
   ],
   "source": [
    "fig, ax = subplots()\n",
    "ax[:plot](Hami.spectrum[:, 1], Hami.spectrum[:, 2] - minimum(Hami.spectrum[:, 2]), ls=\"none\", marker=\"_\", ms=\"12\", mew=\"1.5\")\n",
    "ax[:set_xlabel](\"\\$L\\$\")\n",
    "ax[:set_ylabel](\"\\$E~[e^2/(\\\\epsilon\\\\ell_0]\\$\")\n",
    "ax[:set_title](\"\\$N=$(N), N_\\\\phi=$(Nphi)\\$\")\n",
    "ax[:set_xlim](-1, 15)\n",
    "ax[:set_ylim](-0.01, 0.4);"
   ]
  },
  {
   "cell_type": "markdown",
   "metadata": {},
   "source": [
    "### N = 13"
   ]
  },
  {
   "cell_type": "code",
   "execution_count": 7,
   "metadata": {},
   "outputs": [
    {
     "name": "stdout",
     "output_type": "stream",
     "text": [
      "Building states list for N = 13, Nphi = 24, Lz = 0 ...\n",
      "Finished building states list of size 110780\n",
      "elapsed time: 2.716903615 seconds\n",
      "\n",
      "Building L^2 matrix of size 110780 x 110780 ...\n",
      "Working on LpLm, column j = 1: 1/110780 = 0.0009026900162484203%\n",
      "Working on LpLm, column j = 5539: 5539/110780 = 5.0%\n",
      "Working on LpLm, column j = 11078: 11078/110780 = 10.0%\n",
      "Working on LpLm, column j = 16617: 16617/110780 = 15.0%\n",
      "Working on LpLm, column j = 22156: 22156/110780 = 20.0%\n",
      "Working on LpLm, column j = 27695: 27695/110780 = 25.0%\n",
      "Working on LpLm, column j = 33234: 33234/110780 = 30.0%\n",
      "Working on LpLm, column j = 38773: 38773/110780 = 35.0%\n",
      "Working on LpLm, column j = 44312: 44312/110780 = 40.0%\n",
      "Working on LpLm, column j = 49851: 49851/110780 = 45.0%\n",
      "Working on LpLm, column j = 55390: 55390/110780 = 50.0%\n",
      "Working on LpLm, column j = 60929: 60929/110780 = 55.0%\n",
      "Working on LpLm, column j = 66468: 66468/110780 = 60.0%\n",
      "Working on LpLm, column j = 72007: 72007/110780 = 65.0%\n",
      "Working on LpLm, column j = 77546: 77546/110780 = 70.0%\n",
      "Working on LpLm, column j = 83085: 83085/110780 = 75.0%\n",
      "Working on LpLm, column j = 88624: 88624/110780 = 80.0%\n",
      "Working on LpLm, column j = 94163: 94163/110780 = 85.0%\n",
      "Working on LpLm, column j = 99702: 99702/110780 = 90.0%\n",
      "Working on LpLm, column j = 105241: 105241/110780 = 95.0%\n",
      "Working on LpLm, column j = 110780: 110780/110780 = 100.0%\n",
      "Working on Lz^2, column j = 1: 1/110780 = 0.0009026900162484203%\n",
      "Working on Lz^2, column j = 11078: 11078/110780 = 10.0%\n",
      "Working on Lz^2, column j = 22156: 22156/110780 = 20.0%\n",
      "Working on Lz^2, column j = 33234: 33234/110780 = 30.0%\n",
      "Working on Lz^2, column j = 44312: 44312/110780 = 40.0%\n",
      "Working on Lz^2, column j = 55390: 55390/110780 = 50.0%\n",
      "Working on Lz^2, column j = 66468: 66468/110780 = 60.0%\n",
      "Working on Lz^2, column j = 77546: 77546/110780 = 70.0%\n",
      "Working on Lz^2, column j = 88624: 88624/110780 = 80.0%\n",
      "Working on Lz^2, column j = 99702: 99702/110780 = 90.0%\n",
      "Working on Lz^2, column j = 110780: 110780/110780 = 100.0%\n",
      "elapsed time: 14.040612968 seconds\n",
      "\n",
      "Building CG table for ell1 = 12.0, ell2 = 12.0:\n",
      "Working on alpha1 = 1: 1/25\n",
      "Working on alpha1 = 2: 2/25\n",
      "Working on alpha1 = 3: 3/25\n",
      "Working on alpha1 = 4: 4/25\n",
      "Working on alpha1 = 5: 5/25\n",
      "Working on alpha1 = 6: 6/25\n",
      "Working on alpha1 = 7: 7/25\n",
      "Working on alpha1 = 8: 8/25\n",
      "Working on alpha1 = 9: 9/25\n",
      "Working on alpha1 = 10: 10/25\n",
      "Working on alpha1 = 11: 11/25\n",
      "Working on alpha1 = 12: 12/25\n",
      "Working on alpha1 = 13: 13/25\n",
      "Working on alpha1 = 14: 14/25\n",
      "Working on alpha1 = 15: 15/25\n",
      "Working on alpha1 = 16: 16/25\n",
      "Working on alpha1 = 17: 17/25\n",
      "Working on alpha1 = 18: 18/25\n",
      "Working on alpha1 = 19: 19/25\n",
      "Working on alpha1 = 20: 20/25\n",
      "Working on alpha1 = 21: 21/25\n",
      "Working on alpha1 = 22: 22/25\n",
      "Working on alpha1 = 23: 23/25\n",
      "Working on alpha1 = 24: 24/25\n",
      "Working on alpha1 = 25: 25/25\n",
      "elapsed time: 153.219930624 seconds\n",
      "\n",
      "Building 2-body interaction matrix ...\n",
      "Working on alpha1 = 1: 1/25\n",
      "Working on alpha1 = 2: 2/25\n",
      "Working on alpha1 = 3: 3/25\n",
      "Working on alpha1 = 4: 4/25\n",
      "Working on alpha1 = 5: 5/25\n",
      "Working on alpha1 = 6: 6/25\n",
      "Working on alpha1 = 7: 7/25\n",
      "Working on alpha1 = 8: 8/25\n",
      "Working on alpha1 = 9: 9/25\n",
      "Working on alpha1 = 10: 10/25\n",
      "Working on alpha1 = 11: 11/25\n",
      "Working on alpha1 = 12: 12/25\n",
      "Working on alpha1 = 13: 13/25\n",
      "Working on alpha1 = 14: 14/25\n",
      "Working on alpha1 = 15: 15/25\n",
      "Working on alpha1 = 16: 16/25\n",
      "Working on alpha1 = 17: 17/25\n",
      "Working on alpha1 = 18: 18/25\n",
      "Working on alpha1 = 19: 19/25\n",
      "Working on alpha1 = 20: 20/25\n",
      "Working on alpha1 = 21: 21/25\n",
      "Working on alpha1 = 22: 22/25\n",
      "Working on alpha1 = 23: 23/25\n",
      "Working on alpha1 = 24: 24/25\n",
      "Working on alpha1 = 25: 25/25\n",
      "elapsed time: 12.007293983 seconds\n",
      "\n",
      "Building Hami matrix of size 110780 x 110780 ...\n",
      "Working on H, column j = 1: 1/110780 = 0.0009026900162484203%\n",
      "Working on H, column j = 5539: 5539/110780 = 5.0%\n",
      "Working on H, column j = 11078: 11078/110780 = 10.0%\n",
      "Working on H, column j = 16617: 16617/110780 = 15.0%\n",
      "Working on H, column j = 22156: 22156/110780 = 20.0%\n",
      "Working on H, column j = 27695: 27695/110780 = 25.0%\n",
      "Working on H, column j = 33234: 33234/110780 = 30.0%\n",
      "Working on H, column j = 38773: 38773/110780 = 35.0%\n",
      "Working on H, column j = 44312: 44312/110780 = 40.0%\n",
      "Working on H, column j = 49851: 49851/110780 = 45.0%\n",
      "Working on H, column j = 55390: 55390/110780 = 50.0%\n",
      "Working on H, column j = 60929: 60929/110780 = 55.0%\n",
      "Working on H, column j = 66468: 66468/110780 = 60.0%\n",
      "Working on H, column j = 72007: 72007/110780 = 65.0%\n",
      "Working on H, column j = 77546: 77546/110780 = 70.0%\n",
      "Working on H, column j = 83085: 83085/110780 = 75.0%\n",
      "Working on H, column j = 88624: 88624/110780 = 80.0%\n",
      "Working on H, column j = 94163: 94163/110780 = 85.0%\n",
      "Working on H, column j = 99702: 99702/110780 = 90.0%\n",
      "Working on H, column j = 105241: 105241/110780 = 95.0%\n",
      "Working on H, column j = 110780: 110780/110780 = 100.0%\n",
      "elapsed time: 47.113124359 seconds\n",
      "\n",
      "212.341726 seconds (773.93 M allocations: 58.450 GiB, 3.38% gc time)\n",
      "Diagonalizing Hami of size 110780 x 110780 with eigs, nev = 50 ...\n",
      "elapsed time: 63.614833199 seconds\n",
      "\n",
      "Organizing spectrum according to quantum number L ...\n",
      "elapsed time: 0.364328987 seconds\n",
      "\n"
     ]
    }
   ],
   "source": [
    "N = 13\n",
    "Nphi = 2*(N-1)\n",
    "\n",
    "setup = HaldaneSphereSetupLLL(N, Nphi, 0)\n",
    "\n",
    "pp = spherical_Coulomb_pseudopotentials(get_ell(setup), 0)\n",
    "@time Hami = HaldaneSphereHamiLLL(setup, pp, build_CG_table(get_ell(setup)))\n",
    "# @time Hami = HaldaneSphereHamiLLL(setup, pp, load_CG_table(get_ell(setup), CG_dir))\n",
    "eigs!(Hami, 50)\n",
    "organize_spectrum!(Hami);"
   ]
  },
  {
   "cell_type": "code",
   "execution_count": 8,
   "metadata": {},
   "outputs": [
    {
     "data": {
      "image/png": "[encoded data removed]",
      "text/plain": [
       "PyPlot.Figure(PyObject <matplotlib.figure.Figure object at 0x134085050>)"
      ]
     },
     "metadata": {},
     "output_type": "display_data"
    }
   ],
   "source": [
    "fig, ax = subplots()\n",
    "ax[:plot](Hami.spectrum[:, 1], Hami.spectrum[:, 2] - minimum(Hami.spectrum[:, 2]), ls=\"none\", marker=\"_\", ms=\"12\", mew=\"1.5\")\n",
    "ax[:set_xlabel](\"\\$L\\$\")\n",
    "ax[:set_ylabel](\"\\$E~[e^2/(\\\\epsilon\\\\ell_0]\\$\")\n",
    "ax[:set_title](\"\\$N=$(N), N_\\\\phi=$(Nphi)\\$\")\n",
    "ax[:set_xlim](-1, 15)\n",
    "ax[:set_ylim](-0.001, 0.09);"
   ]
  },
  {
   "cell_type": "markdown",
   "metadata": {},
   "source": [
    "### N = 9"
   ]
  },
  {
   "cell_type": "code",
   "execution_count": 9,
   "metadata": {},
   "outputs": [
    {
     "name": "stdout",
     "output_type": "stream",
     "text": [
      "Building states list for N = 9, Nphi = 16, Lz = 0 ...\n",
      "Finished building states list of size 910\n",
      "elapsed time: 0.007934091 seconds\n",
      "\n",
      "Building L^2 matrix of size 910 x 910 ...\n",
      "Working on LpLm, column j = 1: 1/910 = 0.10989010989010989%\n",
      "Working on LpLm, column j = 46: 46/910 = 5.054945054945055%\n",
      "Working on LpLm, column j = 92: 92/910 = 10.10989010989011%\n",
      "Working on LpLm, column j = 138: 138/910 = 15.164835164835164%\n",
      "Working on LpLm, column j = 184: 184/910 = 20.21978021978022%\n",
      "Working on LpLm, column j = 230: 230/910 = 25.274725274725274%\n",
      "Working on LpLm, column j = 276: 276/910 = 30.32967032967033%\n",
      "Working on LpLm, column j = 322: 322/910 = 35.38461538461539%\n",
      "Working on LpLm, column j = 368: 368/910 = 40.43956043956044%\n",
      "Working on LpLm, column j = 414: 414/910 = 45.494505494505496%\n",
      "Working on LpLm, column j = 460: 460/910 = 50.54945054945055%\n",
      "Working on LpLm, column j = 506: 506/910 = 55.604395604395606%\n",
      "Working on LpLm, column j = 552: 552/910 = 60.65934065934066%\n",
      "Working on LpLm, column j = 598: 598/910 = 65.71428571428571%\n",
      "Working on LpLm, column j = 644: 644/910 = 70.76923076923077%\n",
      "Working on LpLm, column j = 690: 690/910 = 75.82417582417582%\n",
      "Working on LpLm, column j = 736: 736/910 = 80.87912087912088%\n",
      "Working on LpLm, column j = 782: 782/910 = 85.93406593406593%\n",
      "Working on LpLm, column j = 828: 828/910 = 90.98901098901099%\n",
      "Working on LpLm, column j = 874: 874/910 = 96.04395604395604%\n",
      "Working on Lz^2, column j = 1: 1/910 = 0.10989010989010989%\n",
      "Working on Lz^2, column j = 91: 91/910 = 10.0%\n",
      "Working on Lz^2, column j = 182: 182/910 = 20.0%\n",
      "Working on Lz^2, column j = 273: 273/910 = 30.0%\n",
      "Working on Lz^2, column j = 364: 364/910 = 40.0%\n",
      "Working on Lz^2, column j = 455: 455/910 = 50.0%\n",
      "Working on Lz^2, column j = 546: 546/910 = 60.0%\n",
      "Working on Lz^2, column j = 637: 637/910 = 70.0%\n",
      "Working on Lz^2, column j = 728: 728/910 = 80.0%\n",
      "Working on Lz^2, column j = 819: 819/910 = 90.0%\n",
      "Working on Lz^2, column j = 910: 910/910 = 100.0%\n",
      "elapsed time: 0.052573406 seconds\n",
      "\n",
      "Building CG table for ell1 = 8.0, ell2 = 8.0:\n",
      "Working on alpha1 = 1: 1/17\n",
      "Working on alpha1 = 2: 2/17\n",
      "Working on alpha1 = 3: 3/17\n",
      "Working on alpha1 = 4: 4/17\n",
      "Working on alpha1 = 5: 5/17\n",
      "Working on alpha1 = 6: 6/17\n",
      "Working on alpha1 = 7: 7/17\n",
      "Working on alpha1 = 8: 8/17\n",
      "Working on alpha1 = 9: 9/17\n",
      "Working on alpha1 = 10: 10/17\n",
      "Working on alpha1 = 11: 11/17\n",
      "Working on alpha1 = 12: 12/17\n",
      "Working on alpha1 = 13: 13/17\n",
      "Working on alpha1 = 14: 14/17\n",
      "Working on alpha1 = 15: 15/17\n",
      "Working on alpha1 = 16: 16/17\n",
      "Working on alpha1 = 17: 17/17\n",
      "elapsed time: 32.640260395 seconds\n",
      "\n",
      "Building 2-body interaction matrix ...\n",
      "Working on alpha1 = 1: 1/17\n",
      "Working on alpha1 = 2: 2/17\n",
      "Working on alpha1 = 3: 3/17\n",
      "Working on alpha1 = 4: 4/17\n",
      "Working on alpha1 = 5: 5/17\n",
      "Working on alpha1 = 6: 6/17\n",
      "Working on alpha1 = 7: 7/17\n",
      "Working on alpha1 = 8: 8/17\n",
      "Working on alpha1 = 9: 9/17\n",
      "Working on alpha1 = 10: 10/17\n",
      "Working on alpha1 = 11: 11/17\n",
      "Working on alpha1 = 12: 12/17\n",
      "Working on alpha1 = 13: 13/17\n",
      "Working on alpha1 = 14: 14/17\n",
      "Working on alpha1 = 15: 15/17\n",
      "Working on alpha1 = 16: 16/17\n",
      "Working on alpha1 = 17: 17/17\n",
      "elapsed time: 1.206246981 seconds\n",
      "\n",
      "Building Hami matrix of size 910 x 910 ...\n",
      "Working on H, column j = 1: 1/910 = 0.10989010989010989%\n",
      "Working on H, column j = 46: 46/910 = 5.054945054945055%\n",
      "Working on H, column j = 92: 92/910 = 10.10989010989011%\n",
      "Working on H, column j = 138: 138/910 = 15.164835164835164%\n",
      "Working on H, column j = 184: 184/910 = 20.21978021978022%\n",
      "Working on H, column j = 230: 230/910 = 25.274725274725274%\n",
      "Working on H, column j = 276: 276/910 = 30.32967032967033%\n",
      "Working on H, column j = 322: 322/910 = 35.38461538461539%\n",
      "Working on H, column j = 368: 368/910 = 40.43956043956044%\n",
      "Working on H, column j = 414: 414/910 = 45.494505494505496%\n",
      "Working on H, column j = 460: 460/910 = 50.54945054945055%\n",
      "Working on H, column j = 506: 506/910 = 55.604395604395606%\n",
      "Working on H, column j = 552: 552/910 = 60.65934065934066%\n",
      "Working on H, column j = 598: 598/910 = 65.71428571428571%\n",
      "Working on H, column j = 644: 644/910 = 70.76923076923077%\n",
      "Working on H, column j = 690: 690/910 = 75.82417582417582%\n",
      "Working on H, column j = 736: 736/910 = 80.87912087912088%\n",
      "Working on H, column j = 782: 782/910 = 85.93406593406593%\n",
      "Working on H, column j = 828: 828/910 = 90.98901098901099%\n",
      "Working on H, column j = 874: 874/910 = 96.04395604395604%\n",
      "elapsed time: 0.102268016 seconds\n",
      "\n",
      " 33.949758 seconds (55.64 M allocations: 1019.911 MiB, 0.80% gc time)\n",
      "Diagonalizing Hami of size 910 x 910 with eig ...\n",
      "elapsed time: 0.326751747 seconds\n",
      "\n",
      "Organizing spectrum according to quantum number L ...\n",
      "elapsed time: 0.024549503 seconds\n",
      "\n"
     ]
    }
   ],
   "source": [
    "N = 9\n",
    "Nphi = 2*(N-1)\n",
    "\n",
    "setup = HaldaneSphereSetupLLL(N, Nphi, 0)\n",
    "\n",
    "pp = spherical_Coulomb_pseudopotentials(get_ell(setup), 0)\n",
    "@time Hami = HaldaneSphereHamiLLL(setup, pp, build_CG_table(get_ell(setup)))\n",
    "# @time Hami = HaldaneSphereHamiLLL(setup, pp, load_CG_table(get_ell(setup), CG_dir))\n",
    "eig!(Hami)\n",
    "organize_spectrum!(Hami);"
   ]
  },
  {
   "cell_type": "code",
   "execution_count": 10,
   "metadata": {},
   "outputs": [
    {
     "data": {
      "image/png": "[encoded data removed]",
      "text/plain": [
       "PyPlot.Figure(PyObject <matplotlib.figure.Figure object at 0x13dfb9d10>)"
      ]
     },
     "metadata": {},
     "output_type": "display_data"
    }
   ],
   "source": [
    "fig, ax = subplots()\n",
    "ax[:plot](Hami.spectrum[:, 1], Hami.spectrum[:, 2] - minimum(Hami.spectrum[:, 2]), ls=\"none\", marker=\"_\", ms=\"12\", mew=\"1.5\")\n",
    "ax[:set_xlabel](\"\\$L\\$\")\n",
    "ax[:set_ylabel](\"\\$E~[e^2/(\\\\epsilon\\\\ell_0]\\$\")\n",
    "ax[:set_title](\"\\$N=$(N), N_\\\\phi=$(Nphi)\\$\")\n",
    "ax[:set_xlim](-1, 20)\n",
    "ax[:set_ylim](-0.01, 0.502);"
   ]
  },
  {
   "cell_type": "markdown",
   "metadata": {},
   "source": [
    "## For $N = 9$, Calculate and plot pair correlation function along equator of sphere (great circle), cf. Fig. 4 of Rezayi and Read\n",
    "$g(\\mathbf{r}) \\equiv \\frac{1}{\\rho^2}\\langle\\hat\\psi^\\dagger(\\mathbf{r})\\,\\hat\\psi^\\dagger(0)\\,\\hat\\psi(0)\\,\\hat\\psi(\\mathbf{r})\\rangle $, where $\\hat\\psi(\\mathbf{r})$ is the electron field operator in the continuum projected into the LLL, and $\\rho$ is the 2D density of electrons."
   ]
  },
  {
   "cell_type": "code",
   "execution_count": 11,
   "metadata": {},
   "outputs": [
    {
     "name": "stdout",
     "output_type": "stream",
     "text": [
      "Computing 4-point functions ...\n",
      "Working on alpha2p = 1: 1/17\n",
      "Working on alpha2p = 2: 2/17\n",
      "Working on alpha2p = 3: 3/17\n",
      "Working on alpha2p = 4: 4/17\n",
      "Working on alpha2p = 5: 5/17\n",
      "Working on alpha2p = 6: 6/17\n",
      "Working on alpha2p = 7: 7/17\n",
      "Working on alpha2p = 8: 8/17\n",
      "Working on alpha2p = 9: 9/17\n",
      "Working on alpha2p = 10: 10/17\n",
      "Working on alpha2p = 11: 11/17\n",
      "Working on alpha2p = 12: 12/17\n",
      "Working on alpha2p = 13: 13/17\n",
      "Working on alpha2p = 14: 14/17\n",
      "Working on alpha2p = 15: 15/17\n",
      "Working on alpha2p = 16: 16/17\n",
      "Working on alpha2p = 17: 17/17\n",
      "elapsed time: 0.167316856 seconds\n",
      "\n",
      "Computing pair correlation function for 200 points ...\n",
      "Working on g[i], i = 1: 1/200 = 0.5%\n",
      "Working on g[i], i = 10: 10/200 = 5.0%\n",
      "Working on g[i], i = 20: 20/200 = 10.0%\n",
      "Working on g[i], i = 30: 30/200 = 15.0%\n",
      "Working on g[i], i = 40: 40/200 = 20.0%\n",
      "Working on g[i], i = 50: 50/200 = 25.0%\n",
      "Working on g[i], i = 60: 60/200 = 30.0%\n",
      "Working on g[i], i = 70: 70/200 = 35.0%\n",
      "Working on g[i], i = 80: 80/200 = 40.0%\n",
      "Working on g[i], i = 90: 90/200 = 45.0%\n",
      "Working on g[i], i = 100: 100/200 = 50.0%\n",
      "Working on g[i], i = 110: 110/200 = 55.0%\n",
      "Working on g[i], i = 120: 120/200 = 60.0%\n",
      "Working on g[i], i = 130: 130/200 = 65.0%\n",
      "Working on g[i], i = 140: 140/200 = 70.0%\n",
      "Working on g[i], i = 150: 150/200 = 75.0%\n",
      "Working on g[i], i = 160: 160/200 = 80.0%\n",
      "Working on g[i], i = 170: 170/200 = 85.0%\n",
      "Working on g[i], i = 180: 180/200 = 90.0%\n",
      "Working on g[i], i = 190: 190/200 = 95.0%\n",
      "Working on g[i], i = 200: 200/200 = 100.0%\n",
      "elapsed time: 32.742758693 seconds\n",
      "\n",
      "Throwing out imaginary part of g: maximum(abs, imag(g)) = 3.143784773416456e-17\n"
     ]
    }
   ],
   "source": [
    "psi = Hami.eigenstates[:, 1]\n",
    "g = pair_correlation_function_equator_gc(psi, setup.states, pts=200, frac=0.5);"
   ]
  },
  {
   "cell_type": "code",
   "execution_count": 12,
   "metadata": {},
   "outputs": [
    {
     "data": {
      "image/png": "[encoded data removed]",
      "text/plain": [
       "PyPlot.Figure(PyObject <matplotlib.figure.Figure object at 0x13ce4f490>)"
      ]
     },
     "metadata": {},
     "output_type": "display_data"
    }
   ],
   "source": [
    "fig, ax = subplots()\n",
    "ax[:plot](g[:, 1], g[:, 2])\n",
    "ax[:set_xlabel](\"\\$r/\\\\ell_0\\$\")\n",
    "ax[:set_ylabel](\"\\$g(r)\\$\")\n",
    "ax[:set_title](\"\\$N=$(N), N_\\\\phi=$(Nphi)\\$\")\n",
    "ax[:axhline](1, c=\"k\", ls=\"--\", lw=1, alpha=0.5)\n",
    "ax[:set_xlim](0, maximum(g[:, 1]))\n",
    "ax[:set_ylim](0, 1.3)\n",
    "ax[:yaxis][:set_ticks]([0, 0.5, 1.0]);"
   ]
  },
  {
   "cell_type": "code",
   "execution_count": null,
   "metadata": {
    "collapsed": true
   },
   "outputs": [],
   "source": []
  }
 ],
 "metadata": {
  "kernelspec": {
   "display_name": "Julia 0.6.0",
   "language": "julia",
   "name": "julia-0.6"
  },
  "language_info": {
   "file_extension": ".jl",
   "mimetype": "application/julia",
   "name": "julia",
   "version": "0.6.0"
  }
 },
 "nbformat": 4,
 "nbformat_minor": 1
}
