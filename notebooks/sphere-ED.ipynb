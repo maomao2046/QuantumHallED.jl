{
 "cells": [
  {
   "cell_type": "markdown",
   "metadata": {},
   "source": [
    "## *This notebook demonstrates basic usage of the code*"
   ]
  },
  {
   "cell_type": "markdown",
   "metadata": {},
   "source": [
    "### Load QHED code"
   ]
  },
  {
   "cell_type": "code",
   "execution_count": 1,
   "metadata": {},
   "outputs": [],
   "source": [
    "qhed_dir = \"../\"\n",
    "# CG_dir = joinpath(qhed_dir, \"CG\") # specify directory for precomputed Clebsch-Gordan coefficients\n",
    "\n",
    "include(joinpath(qhed_dir, \"src\", \"QHED.jl\"));"
   ]
  },
  {
   "cell_type": "markdown",
   "metadata": {},
   "source": [
    "### Set matplotlib defaults"
   ]
  },
  {
   "cell_type": "code",
   "execution_count": 2,
   "metadata": {},
   "outputs": [],
   "source": [
    "using PyPlot\n",
    "\n",
    "PyPlot.matplotlib[:rc](\"font\", size=14)\n",
    "PyPlot.matplotlib[:rc](\"text\", usetex=true)\n",
    "PyPlot.matplotlib[:rc](\"xtick\", direction=\"in\", bottom=\"on\", top=\"on\")\n",
    "PyPlot.matplotlib[:rc](\"xtick.minor\", visible=\"on\")\n",
    "PyPlot.matplotlib[:rc](\"ytick\", direction=\"in\", left=\"on\", right=\"on\")\n",
    "PyPlot.matplotlib[:rc](\"ytick.minor\", visible=\"on\")\n",
    "\n",
    "# bblue = \"#0C2340\"\n",
    "# borange = \"#FC4C02\""
   ]
  },
  {
   "cell_type": "markdown",
   "metadata": {},
   "source": [
    "### Set parameters and build setup\n",
    "$N$ = number of electrons\n",
    "\n",
    "$N_\\phi$ = number of flux quanta penetrating sphere\n",
    "\n",
    "For a LLL problem at filling factor $\\nu$, we will in general have $N_\\phi = \\nu^{-1}N - S$, where $S$ is the \"shift\"."
   ]
  },
  {
   "cell_type": "code",
   "execution_count": 3,
   "metadata": {},
   "outputs": [
    {
     "name": "stdout",
     "output_type": "stream",
     "text": [
      "Building states list for N = 12, Nphi = 21, Lz = 0 ...\n",
      "Finished building states list of size 16660\n",
      "elapsed time: 0.313629542 seconds\n",
      "\n",
      "Building L^2 matrix of size 16660 x 16660 ...\n",
      "Working on LpLm, column j = 1: 1/16660 = 0.006002400960384154%\n",
      "Working on LpLm, column j = 833: 833/16660 = 5.0%\n",
      "Working on LpLm, column j = 1666: 1666/16660 = 10.0%\n",
      "Working on LpLm, column j = 2499: 2499/16660 = 15.0%\n",
      "Working on LpLm, column j = 3332: 3332/16660 = 20.0%\n",
      "Working on LpLm, column j = 4165: 4165/16660 = 25.0%\n",
      "Working on LpLm, column j = 4998: 4998/16660 = 30.0%\n",
      "Working on LpLm, column j = 5831: 5831/16660 = 35.0%\n",
      "Working on LpLm, column j = 6664: 6664/16660 = 40.0%\n",
      "Working on LpLm, column j = 7497: 7497/16660 = 45.0%\n",
      "Working on LpLm, column j = 8330: 8330/16660 = 50.0%\n",
      "Working on LpLm, column j = 9163: 9163/16660 = 55.0%\n",
      "Working on LpLm, column j = 9996: 9996/16660 = 60.0%\n",
      "Working on LpLm, column j = 10829: 10829/16660 = 65.0%\n",
      "Working on LpLm, column j = 11662: 11662/16660 = 70.0%\n",
      "Working on LpLm, column j = 12495: 12495/16660 = 75.0%\n",
      "Working on LpLm, column j = 13328: 13328/16660 = 80.0%\n",
      "Working on LpLm, column j = 14161: 14161/16660 = 85.0%\n",
      "Working on LpLm, column j = 14994: 14994/16660 = 90.0%\n",
      "Working on LpLm, column j = 15827: 15827/16660 = 95.0%\n",
      "Working on LpLm, column j = 16660: 16660/16660 = 100.0%\n",
      "Working on Lz^2, column j = 1: 1/16660 = 0.006002400960384154%\n",
      "Working on Lz^2, column j = 1666: 1666/16660 = 10.0%\n",
      "Working on Lz^2, column j = 3332: 3332/16660 = 20.0%\n",
      "Working on Lz^2, column j = 4998: 4998/16660 = 30.0%\n",
      "Working on Lz^2, column j = 6664: 6664/16660 = 40.0%\n",
      "Working on Lz^2, column j = 8330: 8330/16660 = 50.0%\n",
      "Working on Lz^2, column j = 9996: 9996/16660 = 60.0%\n",
      "Working on Lz^2, column j = 11662: 11662/16660 = 70.0%\n",
      "Working on Lz^2, column j = 13328: 13328/16660 = 80.0%\n",
      "Working on Lz^2, column j = 14994: 14994/16660 = 90.0%\n",
      "Working on Lz^2, column j = 16660: 16660/16660 = 100.0%\n",
      "elapsed time: 1.667097743 seconds\n",
      "\n"
     ]
    }
   ],
   "source": [
    "N = 12\n",
    "Nphi = 2N - 3\n",
    "\n",
    "setup = HaldaneSphereSetupLLL(N, Nphi, 0);"
   ]
  },
  {
   "cell_type": "markdown",
   "metadata": {},
   "source": [
    "### Calculate and plot Coulomb pseudopotentials for the lowest and first excited Landau levels"
   ]
  },
  {
   "cell_type": "code",
   "execution_count": 4,
   "metadata": {},
   "outputs": [
    {
     "data": {
      "text/plain": [
       "SphericalPseudopotentials(10.5, 9.5, [21.0, 20.0, 19.0, 18.0, 17.0, 16.0, 15.0, 14.0, 13.0, 12.0  …  9.0, 8.0, 7.0, 6.0, 5.0, 4.0, 3.0, 2.0, 1.0, 0.0], [0.0, 1.0, 2.0, 3.0, 4.0, 5.0, 6.0, 7.0, 8.0, 9.0  …  12.0, 13.0, 14.0, 15.0, 16.0, 17.0, 18.0, 19.0, 20.0, 21.0], [0.647293, 0.448627, 0.50082, 0.352973, 0.298615, 0.26634, 0.244242, 0.227975, 0.215456, 0.205535  …  0.185507, 0.180997, 0.177255, 0.174166, 0.171644, 0.169624, 0.168059, 0.166914, 0.166163, 0.165791])"
      ]
     },
     "execution_count": 4,
     "metadata": {},
     "output_type": "execute_result"
    }
   ],
   "source": [
    "pp_LLL = spherical_Coulomb_pseudopotentials(get_ell(setup), 0)\n",
    "pp_SLL = spherical_Coulomb_pseudopotentials(get_ell(setup), 1)\n",
    "\n",
    "# pp = deepcopy(pp_LLL)\n",
    "pp = deepcopy(pp_SLL)"
   ]
  },
  {
   "cell_type": "code",
   "execution_count": 5,
   "metadata": {},
   "outputs": [
    {
     "data": {
      "image/png": "[encoded data removed]",
      "text/plain": [
       "PyPlot.Figure(PyObject <matplotlib.figure.Figure object at 0x131e09c10>)"
      ]
     },
     "metadata": {},
     "output_type": "display_data"
    }
   ],
   "source": [
    "fig, ax = subplots()\n",
    "ax[:plot](pp_LLL.m, pp_LLL.V, ls=\"none\", marker=\"o\", mfc=\"none\", label=\"\\$n=0\\$\")\n",
    "ax[:plot](pp_SLL.m, pp_SLL.V, ls=\"none\", marker=\"s\", mfc=\"none\", label=\"\\$n=1\\$\")\n",
    "ax[:set_xlabel](\"\\$m\\$\")\n",
    "ax[:set_ylabel](\"\\$V_m\\$\")\n",
    "ax[:legend](loc=\"best\")\n",
    "ax[:set_ylim](bottom=0);"
   ]
  },
  {
   "cell_type": "markdown",
   "metadata": {},
   "source": [
    "### Build Hamiltonian"
   ]
  },
  {
   "cell_type": "code",
   "execution_count": 6,
   "metadata": {
    "scrolled": false
   },
   "outputs": [
    {
     "name": "stdout",
     "output_type": "stream",
     "text": [
      "Building CG table for ell1 = 10.5, ell2 = 10.5:\n",
      "Working on alpha1 = 1: 1/22\n",
      "Working on alpha1 = 2: 2/22\n",
      "Working on alpha1 = 3: 3/22\n",
      "Working on alpha1 = 4: 4/22\n",
      "Working on alpha1 = 5: 5/22\n",
      "Working on alpha1 = 6: 6/22\n",
      "Working on alpha1 = 7: 7/22\n",
      "Working on alpha1 = 8: 8/22\n",
      "Working on alpha1 = 9: 9/22\n",
      "Working on alpha1 = 10: 10/22\n",
      "Working on alpha1 = 11: 11/22\n",
      "Working on alpha1 = 12: 12/22\n",
      "Working on alpha1 = 13: 13/22\n",
      "Working on alpha1 = 14: 14/22\n",
      "Working on alpha1 = 15: 15/22\n",
      "Working on alpha1 = 16: 16/22\n",
      "Working on alpha1 = 17: 17/22\n",
      "Working on alpha1 = 18: 18/22\n",
      "Working on alpha1 = 19: 19/22\n",
      "Working on alpha1 = 20: 20/22\n",
      "Working on alpha1 = 21: 21/22\n",
      "Working on alpha1 = 22: 22/22\n",
      "elapsed time: 96.792481813 seconds\n",
      "\n",
      "Building 2-body interaction matrix ...\n",
      "Working on alpha1 = 1: 1/22\n",
      "Working on alpha1 = 2: 2/22\n",
      "Working on alpha1 = 3: 3/22\n",
      "Working on alpha1 = 4: 4/22\n",
      "Working on alpha1 = 5: 5/22\n",
      "Working on alpha1 = 6: 6/22\n",
      "Working on alpha1 = 7: 7/22\n",
      "Working on alpha1 = 8: 8/22\n",
      "Working on alpha1 = 9: 9/22\n",
      "Working on alpha1 = 10: 10/22\n",
      "Working on alpha1 = 11: 11/22\n",
      "Working on alpha1 = 12: 12/22\n",
      "Working on alpha1 = 13: 13/22\n",
      "Working on alpha1 = 14: 14/22\n",
      "Working on alpha1 = 15: 15/22\n",
      "Working on alpha1 = 16: 16/22\n",
      "Working on alpha1 = 17: 17/22\n",
      "Working on alpha1 = 18: 18/22\n",
      "Working on alpha1 = 19: 19/22\n",
      "Working on alpha1 = 20: 20/22\n",
      "Working on alpha1 = 21: 21/22\n",
      "Working on alpha1 = 22: 22/22\n",
      "elapsed time: 5.209750639 seconds\n",
      "\n",
      "Building Hami matrix of size 16660 x 16660 ...\n",
      "Working on H, column j = 1: 1/16660 = 0.006002400960384154%\n",
      "Working on H, column j = 833: 833/16660 = 5.0%\n",
      "Working on H, column j = 1666: 1666/16660 = 10.0%\n",
      "Working on H, column j = 2499: 2499/16660 = 15.0%\n",
      "Working on H, column j = 3332: 3332/16660 = 20.0%\n",
      "Working on H, column j = 4165: 4165/16660 = 25.0%\n",
      "Working on H, column j = 4998: 4998/16660 = 30.0%\n",
      "Working on H, column j = 5831: 5831/16660 = 35.0%\n",
      "Working on H, column j = 6664: 6664/16660 = 40.0%\n",
      "Working on H, column j = 7497: 7497/16660 = 45.0%\n",
      "Working on H, column j = 8330: 8330/16660 = 50.0%\n",
      "Working on H, column j = 9163: 9163/16660 = 55.0%\n",
      "Working on H, column j = 9996: 9996/16660 = 60.0%\n",
      "Working on H, column j = 10829: 10829/16660 = 65.0%\n",
      "Working on H, column j = 11662: 11662/16660 = 70.0%\n",
      "Working on H, column j = 12495: 12495/16660 = 75.0%\n",
      "Working on H, column j = 13328: 13328/16660 = 80.0%\n",
      "Working on H, column j = 14161: 14161/16660 = 85.0%\n",
      "Working on H, column j = 14994: 14994/16660 = 90.0%\n",
      "Working on H, column j = 15827: 15827/16660 = 95.0%\n",
      "Working on H, column j = 16660: 16660/16660 = 100.0%\n",
      "elapsed time: 4.520362586 seconds\n",
      "\n",
      "106.749168 seconds (273.53 M allocations: 8.444 GiB, 1.05% gc time)\n"
     ]
    }
   ],
   "source": [
    "@time Hami = HaldaneSphereHamiLLL(setup, pp, build_CG_table(get_ell(setup)));\n",
    "# @time Hami = HaldaneSphereHamiLLL(setup, pp, load_CG_table(get_ell(setup), CG_dir));"
   ]
  },
  {
   "cell_type": "markdown",
   "metadata": {},
   "source": [
    "### Diagonalize Hamiltonian"
   ]
  },
  {
   "cell_type": "code",
   "execution_count": 7,
   "metadata": {},
   "outputs": [
    {
     "name": "stdout",
     "output_type": "stream",
     "text": [
      "Diagonalizing Hami of size 16660 x 16660 with eigs, nev = 50 ...\n",
      "elapsed time: 7.080410053 seconds\n",
      "\n"
     ]
    }
   ],
   "source": [
    "# eig!(Hami);\n",
    "eigs!(Hami, 50);"
   ]
  },
  {
   "cell_type": "markdown",
   "metadata": {},
   "source": [
    "### Organize energy spectrum according to total angular momentum quantum number $L$"
   ]
  },
  {
   "cell_type": "code",
   "execution_count": 8,
   "metadata": {
    "scrolled": true
   },
   "outputs": [
    {
     "name": "stdout",
     "output_type": "stream",
     "text": [
      "Organizing spectrum according to quantum number L ...\n",
      "elapsed time: 0.035451185 seconds\n",
      "\n"
     ]
    }
   ],
   "source": [
    "organize_spectrum!(Hami);"
   ]
  },
  {
   "cell_type": "markdown",
   "metadata": {},
   "source": [
    "### Plot energy spectrum"
   ]
  },
  {
   "cell_type": "code",
   "execution_count": 9,
   "metadata": {},
   "outputs": [
    {
     "data": {
      "image/png": "[encoded data removed]",
      "text/plain": [
       "PyPlot.Figure(PyObject <matplotlib.figure.Figure object at 0x13e6b6650>)"
      ]
     },
     "metadata": {},
     "output_type": "display_data"
    }
   ],
   "source": [
    "fig, ax = subplots()\n",
    "ax[:plot](Hami.spectrum[:, 1], Hami.spectrum[:, 2] - minimum(Hami.spectrum[:, 2]), ls=\"none\", marker=\"_\", ms=\"12\", mew=\"1.5\")\n",
    "ax[:set_xlabel](\"\\$L\\$\")\n",
    "ax[:set_ylabel](\"\\$E~[e^2/(\\\\epsilon\\\\ell_0]\\$\")\n",
    "ax[:set_title](\"\\$N=$(N), N_\\\\phi=$(Nphi)\\$\")\n",
    "ax[:set_ylim](bottom=-0.001);"
   ]
  },
  {
   "cell_type": "markdown",
   "metadata": {},
   "source": [
    "### Define ground state wave function"
   ]
  },
  {
   "cell_type": "code",
   "execution_count": 10,
   "metadata": {},
   "outputs": [],
   "source": [
    "psi = Hami.eigenstates[:, 1];"
   ]
  },
  {
   "cell_type": "markdown",
   "metadata": {},
   "source": [
    "### Calculate and plot entanglement spectrum"
   ]
  },
  {
   "cell_type": "code",
   "execution_count": 11,
   "metadata": {
    "scrolled": true
   },
   "outputs": [
    {
     "name": "stdout",
     "output_type": "stream",
     "text": [
      "Calculating entanglement spectrum for NA = 6, LzA = [18.0, 19.0, 20.0, 21.0, 22.0, 23.0, 24.0, 25.0, 26.0, 27.0, 28.0, 29.0, 30.0, 31.0, 32.0, 33.0, 34.0, 35.0, 36.0, 37.0, 38.0, 39.0, 40.0, 41.0, 42.0, 43.0, 44.0, 45.0, 46.0, 47.0, 48.0] ...\n",
      "elapsed time: 0.530126771 seconds\n",
      "\n"
     ]
    }
   ],
   "source": [
    "subsystemA = collect(Int(get_Norb(setup)/2+1):get_Norb(setup))\n",
    "NA = Int(N/2)\n",
    "LzAvec = collect(sum(setup.states.possible_mz[subsystemA][1:NA]):sum(setup.states.possible_mz[subsystemA][end-NA+1:end]))\n",
    "\n",
    "ent_spec = entanglement_spectrum(psi, setup.states, subsystemA, NA, LzAvec);"
   ]
  },
  {
   "cell_type": "code",
   "execution_count": 12,
   "metadata": {},
   "outputs": [
    {
     "data": {
      "image/png": "[encoded data removed]",
      "text/plain": [
       "PyPlot.Figure(PyObject <matplotlib.figure.Figure object at 0x13e612f50>)"
      ]
     },
     "metadata": {},
     "output_type": "display_data"
    }
   ],
   "source": [
    "fig, ax = subplots()\n",
    "ax[:plot](ent_spec[:, 1], ent_spec[:, 2], ls=\"none\", marker=\"_\", ms=\"12\", mew=\"1.5\")\n",
    "ax[:set_xlabel](\"\\$L_z^A\\$\")\n",
    "ax[:set_ylabel](\"\\$\\\\xi\\$\")\n",
    "ax[:set_title](\"\\$N=$(N), N_\\\\phi=$(Nphi); N_A=$(NA), N_A^\\\\mathrm{orb}=$(length(subsystemA))\\$\")\n",
    "ax[:set_xlim](23, 44)\n",
    "ax[:set_ylim](0, 12);"
   ]
  },
  {
   "cell_type": "markdown",
   "metadata": {},
   "source": [
    "### Calculate and plot pair correlation function along equator of sphere (great circle)\n",
    "$g(\\mathbf{r}) \\equiv \\frac{1}{\\rho^2}\\langle\\hat\\psi^\\dagger(\\mathbf{r})\\,\\hat\\psi^\\dagger(0)\\,\\hat\\psi(0)\\,\\hat\\psi(\\mathbf{r})\\rangle $, where $\\hat\\psi(\\mathbf{r})$ is the electron field operator in the continuum projected into the LLL, and $\\rho$ is the 2D density of electrons."
   ]
  },
  {
   "cell_type": "code",
   "execution_count": 13,
   "metadata": {},
   "outputs": [
    {
     "name": "stdout",
     "output_type": "stream",
     "text": [
      "Computing 4-point functions ...\n",
      "Working on alpha2p = 1: 1/22\n",
      "Working on alpha2p = 2: 2/22\n",
      "Working on alpha2p = 3: 3/22\n",
      "Working on alpha2p = 4: 4/22\n",
      "Working on alpha2p = 5: 5/22\n",
      "Working on alpha2p = 6: 6/22\n",
      "Working on alpha2p = 7: 7/22\n",
      "Working on alpha2p = 8: 8/22\n",
      "Working on alpha2p = 9: 9/22\n",
      "Working on alpha2p = 10: 10/22\n",
      "Working on alpha2p = 11: 11/22\n",
      "Working on alpha2p = 12: 12/22\n",
      "Working on alpha2p = 13: 13/22\n",
      "Working on alpha2p = 14: 14/22\n",
      "Working on alpha2p = 15: 15/22\n",
      "Working on alpha2p = 16: 16/22\n",
      "Working on alpha2p = 17: 17/22\n",
      "Working on alpha2p = 18: 18/22\n",
      "Working on alpha2p = 19: 19/22\n",
      "Working on alpha2p = 20: 20/22\n",
      "Working on alpha2p = 21: 21/22\n",
      "Working on alpha2p = 22: 22/22\n",
      "elapsed time: 4.589514643 seconds\n",
      "\n",
      "Computing pair correlation function for 200 points ...\n",
      "Working on g[i], i = 1: 1/200 = 0.5%\n",
      "Working on g[i], i = 10: 10/200 = 5.0%\n",
      "Working on g[i], i = 20: 20/200 = 10.0%\n",
      "Working on g[i], i = 30: 30/200 = 15.0%\n",
      "Working on g[i], i = 40: 40/200 = 20.0%\n",
      "Working on g[i], i = 50: 50/200 = 25.0%\n",
      "Working on g[i], i = 60: 60/200 = 30.0%\n",
      "Working on g[i], i = 70: 70/200 = 35.0%\n",
      "Working on g[i], i = 80: 80/200 = 40.0%\n",
      "Working on g[i], i = 90: 90/200 = 45.0%\n",
      "Working on g[i], i = 100: 100/200 = 50.0%\n",
      "Working on g[i], i = 110: 110/200 = 55.0%\n",
      "Working on g[i], i = 120: 120/200 = 60.0%\n",
      "Working on g[i], i = 130: 130/200 = 65.0%\n",
      "Working on g[i], i = 140: 140/200 = 70.0%\n",
      "Working on g[i], i = 150: 150/200 = 75.0%\n",
      "Working on g[i], i = 160: 160/200 = 80.0%\n",
      "Working on g[i], i = 170: 170/200 = 85.0%\n",
      "Working on g[i], i = 180: 180/200 = 90.0%\n",
      "Working on g[i], i = 190: 190/200 = 95.0%\n",
      "Working on g[i], i = 200: 200/200 = 100.0%\n",
      "elapsed time: 101.029179439 seconds\n",
      "\n",
      "Throwing out imaginary part of g: maximum(abs, imag(g)) = 2.3603740944573712e-17\n"
     ]
    }
   ],
   "source": [
    "g = pair_correlation_function_equator_gc(psi, setup.states, pts=200, frac=0.5);"
   ]
  },
  {
   "cell_type": "code",
   "execution_count": 14,
   "metadata": {},
   "outputs": [
    {
     "data": {
      "image/png": "[encoded data removed]",
      "text/plain": [
       "PyPlot.Figure(PyObject <matplotlib.figure.Figure object at 0x121c3fb10>)"
      ]
     },
     "metadata": {},
     "output_type": "display_data"
    }
   ],
   "source": [
    "fig, ax = subplots()\n",
    "ax[:plot](g[:, 1], g[:, 2])\n",
    "ax[:set_xlabel](\"\\$r/\\\\ell_0\\$\")\n",
    "ax[:set_ylabel](\"\\$g(r)\\$\")\n",
    "ax[:set_title](\"\\$N=$(N), N_\\\\phi=$(Nphi)\\$\")\n",
    "ax[:axhline](1, c=\"k\", ls=\"--\", lw=1, alpha=0.5)\n",
    "ax[:set_xlim](0, maximum(g[:, 1]))\n",
    "ax[:set_ylim](bottom=0);\n",
    "# fig[:savefig](\"g.pdf\", transparent=true, bbox_inches=\"tight\");"
   ]
  },
  {
   "cell_type": "code",
   "execution_count": null,
   "metadata": {
    "collapsed": true
   },
   "outputs": [],
   "source": []
  }
 ],
 "metadata": {
  "kernelspec": {
   "display_name": "Julia 0.6.0",
   "language": "julia",
   "name": "julia-0.6"
  },
  "language_info": {
   "file_extension": ".jl",
   "mimetype": "application/julia",
   "name": "julia",
   "version": "0.6.0"
  }
 },
 "nbformat": 4,
 "nbformat_minor": 1
}
