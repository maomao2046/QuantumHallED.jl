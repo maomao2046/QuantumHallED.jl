{
 "cells": [
  {
   "cell_type": "markdown",
   "metadata": {},
   "source": [
    "## *This notebook reproduces entanglement spectrum results in Li and Haldane, PRL 101, 010504 (2008)*"
   ]
  },
  {
   "cell_type": "markdown",
   "metadata": {},
   "source": [
    "### Load QHED code"
   ]
  },
  {
   "cell_type": "code",
   "execution_count": 1,
   "metadata": {},
   "outputs": [],
   "source": [
    "qhed_dir = \"../\"\n",
    "# CG_dir = joinpath(qhed_dir, \"CG\") # specify directory for precomputed Clebsch-Gordan coefficients\n",
    "\n",
    "include(joinpath(qhed_dir, \"src\", \"QHED.jl\"));"
   ]
  },
  {
   "cell_type": "markdown",
   "metadata": {},
   "source": [
    "### Set matplotlib defaults"
   ]
  },
  {
   "cell_type": "code",
   "execution_count": 2,
   "metadata": {},
   "outputs": [],
   "source": [
    "using PyPlot\n",
    "\n",
    "PyPlot.matplotlib[:rc](\"font\", size=14)\n",
    "PyPlot.matplotlib[:rc](\"text\", usetex=true)\n",
    "PyPlot.matplotlib[:rc](\"xtick\", direction=\"in\", bottom=\"on\", top=\"on\")\n",
    "PyPlot.matplotlib[:rc](\"xtick.minor\", visible=\"on\")\n",
    "PyPlot.matplotlib[:rc](\"ytick\", direction=\"in\", left=\"on\", right=\"on\")\n",
    "PyPlot.matplotlib[:rc](\"ytick.minor\", visible=\"on\")\n",
    "\n",
    "# bblue = \"#0C2340\"\n",
    "# borange = \"#FC4C02\""
   ]
  },
  {
   "cell_type": "markdown",
   "metadata": {},
   "source": [
    "### Set parameters and build setup\n",
    "$N$ = number of electrons\n",
    "\n",
    "$N_\\phi$ = number of flux quanta penetrating sphere\n",
    "\n",
    "For a LLL problem at filling factor $\\nu$, we will in general have $N_\\phi = \\nu^{-1}N - S$, where $S$ is the \"shift\"."
   ]
  },
  {
   "cell_type": "code",
   "execution_count": 3,
   "metadata": {},
   "outputs": [
    {
     "name": "stdout",
     "output_type": "stream",
     "text": [
      "Building states list for N = 16, Nphi = 29, Lz = 0 ...\n",
      "Finished building states list of size 2374753\n",
      "elapsed time: 355.810371755 seconds\n",
      "\n",
      "Building L^2 matrix of size 2374753 x 2374753 ...\n",
      "Working on LpLm, column j = 1: 1/2374753 = 4.2109642560721055e-5%\n",
      "Working on LpLm, column j = 118738: 118738/2374753 = 5.0000147383748965%\n",
      "Working on LpLm, column j = 237476: 237476/2374753 = 10.000029476749793%\n",
      "Working on LpLm, column j = 356214: 356214/2374753 = 15.000044215124689%\n",
      "Working on LpLm, column j = 474952: 474952/2374753 = 20.000058953499586%\n",
      "Working on LpLm, column j = 593690: 593690/2374753 = 25.00007369187448%\n",
      "Working on LpLm, column j = 712428: 712428/2374753 = 30.000088430249377%\n",
      "Working on LpLm, column j = 831166: 831166/2374753 = 35.00010316862427%\n",
      "Working on LpLm, column j = 949904: 949904/2374753 = 40.00011790699917%\n",
      "Working on LpLm, column j = 1068642: 1068642/2374753 = 45.000132645374066%\n",
      "Working on LpLm, column j = 1187380: 1187380/2374753 = 50.00014738374896%\n",
      "Working on LpLm, column j = 1306118: 1306118/2374753 = 55.00016212212386%\n",
      "Working on LpLm, column j = 1424856: 1424856/2374753 = 60.000176860498755%\n",
      "Working on LpLm, column j = 1543594: 1543594/2374753 = 65.00019159887366%\n",
      "Working on LpLm, column j = 1662332: 1662332/2374753 = 70.00020633724854%\n",
      "Working on LpLm, column j = 1781070: 1781070/2374753 = 75.00022107562344%\n",
      "Working on LpLm, column j = 1899808: 1899808/2374753 = 80.00023581399834%\n",
      "Working on LpLm, column j = 2018546: 2018546/2374753 = 85.00025055237323%\n",
      "Working on LpLm, column j = 2137284: 2137284/2374753 = 90.00026529074813%\n",
      "Working on LpLm, column j = 2256022: 2256022/2374753 = 95.00028002912303%\n",
      "Working on Lz^2, column j = 1: 1/2374753 = 4.2109642560721055e-5%\n",
      "Working on Lz^2, column j = 237476: 237476/2374753 = 10.000029476749793%\n",
      "Working on Lz^2, column j = 474952: 474952/2374753 = 20.000058953499586%\n",
      "Working on Lz^2, column j = 712428: 712428/2374753 = 30.000088430249377%\n",
      "Working on Lz^2, column j = 949904: 949904/2374753 = 40.00011790699917%\n",
      "Working on Lz^2, column j = 1187380: 1187380/2374753 = 50.00014738374896%\n",
      "Working on Lz^2, column j = 1424856: 1424856/2374753 = 60.000176860498755%\n",
      "Working on Lz^2, column j = 1662332: 1662332/2374753 = 70.00020633724854%\n",
      "Working on Lz^2, column j = 1899808: 1899808/2374753 = 80.00023581399834%\n",
      "Working on Lz^2, column j = 2137284: 2137284/2374753 = 90.00026529074813%\n",
      "elapsed time: 464.154080105 seconds\n",
      "\n"
     ]
    }
   ],
   "source": [
    "N = 16\n",
    "Nphi = 2N - 3 # choose the Moore-Read shift\n",
    "\n",
    "setup = HaldaneSphereSetupLLL(N, Nphi, 0);"
   ]
  },
  {
   "cell_type": "markdown",
   "metadata": {},
   "source": [
    "### Calculate Coulomb pseudopotentials for the first excited ($n = 1$) Landau level"
   ]
  },
  {
   "cell_type": "code",
   "execution_count": 4,
   "metadata": {},
   "outputs": [
    {
     "data": {
      "text/plain": [
       "SphericalPseudopotentials(14.5, 13.5, [29.0, 28.0, 27.0, 26.0, 25.0, 24.0, 23.0, 22.0, 21.0, 20.0  …  9.0, 8.0, 7.0, 6.0, 5.0, 4.0, 3.0, 2.0, 1.0, 0.0], [0.0, 1.0, 2.0, 3.0, 4.0, 5.0, 6.0, 7.0, 8.0, 9.0  …  20.0, 21.0, 22.0, 23.0, 24.0, 25.0, 26.0, 27.0, 28.0, 29.0], [0.636754, 0.43937, 0.486364, 0.342107, 0.288476, 0.256355, 0.234165, 0.217661, 0.204809, 0.194478  …  0.146247, 0.144548, 0.143087, 0.141844, 0.140804, 0.139955, 0.139287, 0.138792, 0.138465, 0.138302])"
      ]
     },
     "execution_count": 4,
     "metadata": {},
     "output_type": "execute_result"
    }
   ],
   "source": [
    "pp = spherical_Coulomb_pseudopotentials(get_ell(setup), 1)"
   ]
  },
  {
   "cell_type": "markdown",
   "metadata": {},
   "source": [
    "### Build Hamiltonian"
   ]
  },
  {
   "cell_type": "code",
   "execution_count": 5,
   "metadata": {
    "scrolled": false
   },
   "outputs": [
    {
     "name": "stdout",
     "output_type": "stream",
     "text": [
      "Building CG table for ell1 = 14.5, ell2 = 14.5:\n",
      "Working on alpha1 = 1: 1/30\n",
      "Working on alpha1 = 2: 2/30\n",
      "Working on alpha1 = 3: 3/30\n",
      "Working on alpha1 = 4: 4/30\n",
      "Working on alpha1 = 5: 5/30\n",
      "Working on alpha1 = 6: 6/30\n",
      "Working on alpha1 = 7: 7/30\n",
      "Working on alpha1 = 8: 8/30\n",
      "Working on alpha1 = 9: 9/30\n",
      "Working on alpha1 = 10: 10/30\n",
      "Working on alpha1 = 11: 11/30\n",
      "Working on alpha1 = 12: 12/30\n",
      "Working on alpha1 = 13: 13/30\n",
      "Working on alpha1 = 14: 14/30\n",
      "Working on alpha1 = 15: 15/30\n",
      "Working on alpha1 = 16: 16/30\n",
      "Working on alpha1 = 17: 17/30\n",
      "Working on alpha1 = 18: 18/30\n",
      "Working on alpha1 = 19: 19/30\n",
      "Working on alpha1 = 20: 20/30\n",
      "Working on alpha1 = 21: 21/30\n",
      "Working on alpha1 = 22: 22/30\n",
      "Working on alpha1 = 23: 23/30\n",
      "Working on alpha1 = 24: 24/30\n",
      "Working on alpha1 = 25: 25/30\n",
      "Working on alpha1 = 26: 26/30\n",
      "Working on alpha1 = 27: 27/30\n",
      "Working on alpha1 = 28: 28/30\n",
      "Working on alpha1 = 29: 29/30\n",
      "Working on alpha1 = 30: 30/30\n",
      "elapsed time: 315.37450272 seconds\n",
      "\n",
      "Building 2-body interaction matrix ...\n",
      "Working on alpha1 = 1: 1/30\n",
      "Working on alpha1 = 2: 2/30\n",
      "Working on alpha1 = 3: 3/30\n",
      "Working on alpha1 = 4: 4/30\n",
      "Working on alpha1 = 5: 5/30\n",
      "Working on alpha1 = 6: 6/30\n",
      "Working on alpha1 = 7: 7/30\n",
      "Working on alpha1 = 8: 8/30\n",
      "Working on alpha1 = 9: 9/30\n",
      "Working on alpha1 = 10: 10/30\n",
      "Working on alpha1 = 11: 11/30\n",
      "Working on alpha1 = 12: 12/30\n",
      "Working on alpha1 = 13: 13/30\n",
      "Working on alpha1 = 14: 14/30\n",
      "Working on alpha1 = 15: 15/30\n",
      "Working on alpha1 = 16: 16/30\n",
      "Working on alpha1 = 17: 17/30\n",
      "Working on alpha1 = 18: 18/30\n",
      "Working on alpha1 = 19: 19/30\n",
      "Working on alpha1 = 20: 20/30\n",
      "Working on alpha1 = 21: 21/30\n",
      "Working on alpha1 = 22: 22/30\n",
      "Working on alpha1 = 23: 23/30\n",
      "Working on alpha1 = 24: 24/30\n",
      "Working on alpha1 = 25: 25/30\n",
      "Working on alpha1 = 26: 26/30\n",
      "Working on alpha1 = 27: 27/30\n",
      "Working on alpha1 = 28: 28/30\n",
      "Working on alpha1 = 29: 29/30\n",
      "Working on alpha1 = 30: 30/30\n",
      "elapsed time: 33.806678304 seconds\n",
      "\n",
      "Building Hami matrix of size 2374753 x 2374753 ...\n",
      "Working on H, column j = 1: 1/2374753 = 4.2109642560721055e-5%\n",
      "Working on H, column j = 118738: 118738/2374753 = 5.0000147383748965%\n",
      "Working on H, column j = 237476: 237476/2374753 = 10.000029476749793%\n",
      "Working on H, column j = 356214: 356214/2374753 = 15.000044215124689%\n",
      "Working on H, column j = 474952: 474952/2374753 = 20.000058953499586%\n",
      "Working on H, column j = 593690: 593690/2374753 = 25.00007369187448%\n",
      "Working on H, column j = 712428: 712428/2374753 = 30.000088430249377%\n",
      "Working on H, column j = 831166: 831166/2374753 = 35.00010316862427%\n",
      "Working on H, column j = 949904: 949904/2374753 = 40.00011790699917%\n",
      "Working on H, column j = 1068642: 1068642/2374753 = 45.000132645374066%\n",
      "Working on H, column j = 1187380: 1187380/2374753 = 50.00014738374896%\n",
      "Working on H, column j = 1306118: 1306118/2374753 = 55.00016212212386%\n",
      "Working on H, column j = 1424856: 1424856/2374753 = 60.000176860498755%\n",
      "Working on H, column j = 1543594: 1543594/2374753 = 65.00019159887366%\n",
      "Working on H, column j = 1662332: 1662332/2374753 = 70.00020633724854%\n",
      "Working on H, column j = 1781070: 1781070/2374753 = 75.00022107562344%\n",
      "Working on H, column j = 1899808: 1899808/2374753 = 80.00023581399834%\n",
      "Working on H, column j = 2018546: 2018546/2374753 = 85.00025055237323%\n",
      "Working on H, column j = 2137284: 2137284/2374753 = 90.00026529074813%\n",
      "Working on H, column j = 2256022: 2256022/2374753 = 95.00028002912303%\n",
      "elapsed time: 2300.086236136 seconds\n",
      "\n",
      "2649.575526 seconds (10.88 G allocations: 1.949 TiB, 14.13% gc time)\n"
     ]
    }
   ],
   "source": [
    "@time Hami = HaldaneSphereHamiLLL(setup, pp, build_CG_table(get_ell(setup)));\n",
    "# @time Hami = HaldaneSphereHamiLLL(setup, pp, load_CG_table(get_ell(setup), CG_dir));"
   ]
  },
  {
   "cell_type": "markdown",
   "metadata": {},
   "source": [
    "### Diagonalize Hamiltonian to find ground state wave function"
   ]
  },
  {
   "cell_type": "code",
   "execution_count": 6,
   "metadata": {},
   "outputs": [
    {
     "name": "stdout",
     "output_type": "stream",
     "text": [
      "Diagonalizing Hami of size 2374753 x 2374753 with eigs, nev = 1 ...\n",
      "elapsed time: 531.746492544 seconds\n",
      "\n"
     ]
    }
   ],
   "source": [
    "eigs!(Hami, 1)\n",
    "psi = Hami.eigenstates[:, 1];"
   ]
  },
  {
   "cell_type": "markdown",
   "metadata": {},
   "source": [
    "### Calculate and plot entanglement spectra for different bipartition configurations (cf. Fig. 2 of Li and Haldane)"
   ]
  },
  {
   "cell_type": "code",
   "execution_count": 7,
   "metadata": {},
   "outputs": [
    {
     "name": "stdout",
     "output_type": "stream",
     "text": [
      "Calculating entanglement spectrum for NA = 8, LzA = [49.0, 50.0, 51.0, 52.0, 53.0, 54.0, 55.0, 56.0, 57.0, 58.0, 59.0, 60.0, 61.0, 62.0, 63.0, 64.0, 65.0, 66.0, 67.0] ...\n",
      "elapsed time: 696.692456998 seconds\n",
      "\n"
     ]
    }
   ],
   "source": [
    "subsystemA = collect(16:get_Norb(setup))\n",
    "NA = 8\n",
    "LzAvec = collect(49.:67.)\n",
    "\n",
    "ent_spec = entanglement_spectrum(psi, setup.states, subsystemA, NA, LzAvec);"
   ]
  },
  {
   "cell_type": "code",
   "execution_count": 8,
   "metadata": {},
   "outputs": [
    {
     "data": {
      "image/png": "[encoded data removed]",
      "text/plain": [
       "PyPlot.Figure(PyObject <matplotlib.figure.Figure object at 0x151710fd0>)"
      ]
     },
     "metadata": {},
     "output_type": "display_data"
    }
   ],
   "source": [
    "fig, ax = subplots()\n",
    "ax[:plot](ent_spec[:, 1], ent_spec[:, 2], ls=\"none\", marker=\"_\", ms=\"10\", mew=\"1.5\")\n",
    "ax[:set_xlabel](\"\\$L_z^A\\$\")\n",
    "ax[:set_ylabel](\"\\$\\\\xi\\$\")\n",
    "ax[:set_title](\"\\$N=$(N), N_\\\\phi=$(Nphi); N_\\\\mathrm{orb}^A=$(length(subsystemA)), N_e^A=$(NA) : P[0|0]\\$\")\n",
    "ax[:set_xlim](40, 68)\n",
    "ax[:set_ylim](0, 12);"
   ]
  },
  {
   "cell_type": "code",
   "execution_count": 9,
   "metadata": {},
   "outputs": [
    {
     "name": "stdout",
     "output_type": "stream",
     "text": [
      "Calculating entanglement spectrum for NA = 8, LzA = [50.0, 51.0, 52.0, 53.0, 54.0, 55.0, 56.0, 57.0, 58.0, 59.0, 60.0, 61.0, 62.0, 63.0, 64.0, 65.0, 66.0, 67.0] ...\n",
      "elapsed time: 446.294034166 seconds\n",
      "\n"
     ]
    }
   ],
   "source": [
    "subsystemA = collect(15:get_Norb(setup))\n",
    "NA = 8\n",
    "LzAvec = collect(50.:67.)\n",
    "\n",
    "ent_spec = entanglement_spectrum(psi, setup.states, subsystemA, NA, LzAvec);"
   ]
  },
  {
   "cell_type": "code",
   "execution_count": 10,
   "metadata": {},
   "outputs": [
    {
     "data": {
      "image/png": "[encoded data removed]",
      "text/plain": [
       "PyPlot.Figure(PyObject <matplotlib.figure.Figure object at 0x1358b8550>)"
      ]
     },
     "metadata": {},
     "output_type": "display_data"
    }
   ],
   "source": [
    "fig, ax = subplots()\n",
    "ax[:plot](ent_spec[:, 1], ent_spec[:, 2], ls=\"none\", marker=\"_\", ms=\"10\", mew=\"1.5\")\n",
    "ax[:set_xlabel](\"\\$L_z^A\\$\")\n",
    "ax[:set_ylabel](\"\\$\\\\xi\\$\")\n",
    "ax[:set_title](\"\\$N=$(N), N_\\\\phi=$(Nphi); N_\\\\mathrm{orb}^A=$(length(subsystemA)), N_e^A=$(NA) : P[0|1]\\$\")\n",
    "ax[:set_xlim](40, 68)\n",
    "ax[:set_ylim](0, 12);"
   ]
  },
  {
   "cell_type": "code",
   "execution_count": 11,
   "metadata": {},
   "outputs": [
    {
     "name": "stdout",
     "output_type": "stream",
     "text": [
      "Calculating entanglement spectrum for NA = 9, LzA = [48.5, 49.5, 50.5, 51.5, 52.5, 53.5, 54.5, 55.5, 56.5, 57.5, 58.5, 59.5, 60.5, 61.5, 62.5, 63.5, 64.5, 65.5, 66.5] ...\n",
      "elapsed time: 686.542615196 seconds\n",
      "\n"
     ]
    }
   ],
   "source": [
    "subsystemA = collect(14:get_Norb(setup))\n",
    "NA = 9\n",
    "LzAvec = collect(48.5:66.5)\n",
    "\n",
    "ent_spec = entanglement_spectrum(psi, setup.states, subsystemA, NA, LzAvec);"
   ]
  },
  {
   "cell_type": "code",
   "execution_count": 12,
   "metadata": {},
   "outputs": [
    {
     "data": {
      "image/png": "[encoded data removed]",
      "text/plain": [
       "PyPlot.Figure(PyObject <matplotlib.figure.Figure object at 0x13ec262d0>)"
      ]
     },
     "metadata": {},
     "output_type": "display_data"
    }
   ],
   "source": [
    "fig, ax = subplots()\n",
    "ax[:plot](ent_spec[:, 1], ent_spec[:, 2], ls=\"none\", marker=\"_\", ms=\"10\", mew=\"1.5\")\n",
    "ax[:set_xlabel](\"\\$L_z^A\\$\")\n",
    "ax[:set_ylabel](\"\\$\\\\xi\\$\")\n",
    "ax[:set_title](\"\\$N=$(N), N_\\\\phi=$(Nphi); N_\\\\mathrm{orb}^A=$(length(subsystemA)), N_e^A=$(NA) : P[1|1]\\$\")\n",
    "ax[:set_xlim](40, 68)\n",
    "ax[:set_ylim](0, 12);"
   ]
  },
  {
   "cell_type": "code",
   "execution_count": null,
   "metadata": {
    "collapsed": true
   },
   "outputs": [],
   "source": []
  }
 ],
 "metadata": {
  "kernelspec": {
   "display_name": "Julia 0.6.0",
   "language": "julia",
   "name": "julia-0.6"
  },
  "language_info": {
   "file_extension": ".jl",
   "mimetype": "application/julia",
   "name": "julia",
   "version": "0.6.0"
  }
 },
 "nbformat": 4,
 "nbformat_minor": 1
}
